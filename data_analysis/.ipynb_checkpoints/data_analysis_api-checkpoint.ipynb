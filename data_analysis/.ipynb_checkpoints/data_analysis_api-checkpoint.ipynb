{
 "cells": [
  {
   "cell_type": "markdown",
   "metadata": {},
   "source": [
    "# Weather Data Analysis\n"
   ]
  },
  {
   "cell_type": "markdown",
   "metadata": {},
   "source": [
    "### To Do's"
   ]
  },
  {
   "cell_type": "markdown",
   "metadata": {},
   "source": [
    "### Imports\n"
   ]
  },
  {
   "cell_type": "code",
   "execution_count": 37,
   "metadata": {},
   "outputs": [],
   "source": [
    "import pandas as pd\n",
    "import numpy as np\n",
    "import json\n",
    "import time\n",
    "from scipy import stats\n",
    "import matplotlib.pyplot as plt"
   ]
  },
  {
   "cell_type": "markdown",
   "metadata": {},
   "source": [
    "### Parameters"
   ]
  },
  {
   "cell_type": "code",
   "execution_count": 38,
   "metadata": {},
   "outputs": [],
   "source": [
    "EXPORT_CSV = False"
   ]
  },
  {
   "cell_type": "markdown",
   "metadata": {},
   "source": [
    "### Creating a Pandas Dataframe"
   ]
  },
  {
   "cell_type": "code",
   "execution_count": 39,
   "metadata": {},
   "outputs": [
    {
     "name": "stdout",
     "output_type": "stream",
     "text": [
      "Creating Dataframe... \n",
      "\n",
      "Time taken to create the Dataframe:  0.01  seconds\n"
     ]
    }
   ],
   "source": [
    "data_file = open('../data/Wdata.txt', 'r')\n",
    "\n",
    "print(\"Creating Dataframe...\", \"\\n\")\n",
    "tic = time.time()\n",
    "\n",
    "times = []\n",
    "temperatures = []\n",
    "weather_classifiers = []\n",
    "\n",
    "for line in data_file:\n",
    "    temp = json.loads(line)\n",
    "    times.append(temp[0])\n",
    "    temperatures.append(temp[1]['temp'])\n",
    "    weather_classifiers.append(temp[2])\n",
    "\n",
    "df = pd.DataFrame()\n",
    "df['Time'] = pd.to_datetime(times, yearfirst=True)\n",
    "df['Temperature'] = temperatures\n",
    "df['Weather Classifier'] = weather_classifiers\n",
    "df.drop_duplicates(inplace = True)\n",
    "\n",
    "\n",
    "\n",
    "df.set_index('Time', inplace=True)\n",
    "\n",
    "# There are some duplicates in the API data, so we need to drop them\n",
    "df.drop_duplicates()\n",
    "\n",
    "if EXPORT_CSV:\n",
    "    self.dataframe.to_csv('../data/data.csv')\n",
    "\n",
    "toc = time.time()\n",
    "print(\"Time taken to create the Dataframe: \", round((toc - tic), 2), \" seconds\")"
   ]
  },
  {
   "cell_type": "markdown",
   "metadata": {},
   "source": [
    "### Info and Head"
   ]
  },
  {
   "cell_type": "code",
   "execution_count": 40,
   "metadata": {},
   "outputs": [
    {
     "name": "stdout",
     "output_type": "stream",
     "text": [
      "<class 'pandas.core.frame.DataFrame'>\n",
      "DatetimeIndex: 154 entries, 2018-11-30 00:20:00 to 2018-12-03 00:50:00\n",
      "Data columns (total 2 columns):\n",
      "Temperature           154 non-null float64\n",
      "Weather Classifier    154 non-null object\n",
      "dtypes: float64(1), object(1)\n",
      "memory usage: 3.6+ KB\n"
     ]
    },
    {
     "data": {
      "text/html": [
       "<div>\n",
       "<style scoped>\n",
       "    .dataframe tbody tr th:only-of-type {\n",
       "        vertical-align: middle;\n",
       "    }\n",
       "\n",
       "    .dataframe tbody tr th {\n",
       "        vertical-align: top;\n",
       "    }\n",
       "\n",
       "    .dataframe thead th {\n",
       "        text-align: right;\n",
       "    }\n",
       "</style>\n",
       "<table border=\"1\" class=\"dataframe\">\n",
       "  <thead>\n",
       "    <tr style=\"text-align: right;\">\n",
       "      <th></th>\n",
       "      <th>Temperature</th>\n",
       "      <th>Weather Classifier</th>\n",
       "    </tr>\n",
       "    <tr>\n",
       "      <th>Time</th>\n",
       "      <th></th>\n",
       "      <th></th>\n",
       "    </tr>\n",
       "  </thead>\n",
       "  <tbody>\n",
       "    <tr>\n",
       "      <th>2018-11-30 00:20:00</th>\n",
       "      <td>8.77</td>\n",
       "      <td>Rain</td>\n",
       "    </tr>\n",
       "    <tr>\n",
       "      <th>2018-11-30 00:50:00</th>\n",
       "      <td>8.66</td>\n",
       "      <td>Rain</td>\n",
       "    </tr>\n",
       "    <tr>\n",
       "      <th>2018-11-30 01:20:00</th>\n",
       "      <td>8.77</td>\n",
       "      <td>Rain</td>\n",
       "    </tr>\n",
       "    <tr>\n",
       "      <th>2018-11-30 01:50:00</th>\n",
       "      <td>8.65</td>\n",
       "      <td>Rain</td>\n",
       "    </tr>\n",
       "    <tr>\n",
       "      <th>2018-11-30 02:20:00</th>\n",
       "      <td>8.13</td>\n",
       "      <td>Clouds</td>\n",
       "    </tr>\n",
       "    <tr>\n",
       "      <th>2018-11-30 02:50:00</th>\n",
       "      <td>8.12</td>\n",
       "      <td>Clouds</td>\n",
       "    </tr>\n",
       "    <tr>\n",
       "      <th>2018-11-30 03:20:00</th>\n",
       "      <td>8.22</td>\n",
       "      <td>Clouds</td>\n",
       "    </tr>\n",
       "    <tr>\n",
       "      <th>2018-11-30 03:50:00</th>\n",
       "      <td>8.00</td>\n",
       "      <td>Clouds</td>\n",
       "    </tr>\n",
       "    <tr>\n",
       "      <th>2018-11-30 04:20:00</th>\n",
       "      <td>8.11</td>\n",
       "      <td>Clear</td>\n",
       "    </tr>\n",
       "    <tr>\n",
       "      <th>2018-11-30 04:50:00</th>\n",
       "      <td>7.77</td>\n",
       "      <td>Clear</td>\n",
       "    </tr>\n",
       "  </tbody>\n",
       "</table>\n",
       "</div>"
      ],
      "text/plain": [
       "                     Temperature Weather Classifier\n",
       "Time                                               \n",
       "2018-11-30 00:20:00         8.77               Rain\n",
       "2018-11-30 00:50:00         8.66               Rain\n",
       "2018-11-30 01:20:00         8.77               Rain\n",
       "2018-11-30 01:50:00         8.65               Rain\n",
       "2018-11-30 02:20:00         8.13             Clouds\n",
       "2018-11-30 02:50:00         8.12             Clouds\n",
       "2018-11-30 03:20:00         8.22             Clouds\n",
       "2018-11-30 03:50:00         8.00             Clouds\n",
       "2018-11-30 04:20:00         8.11              Clear\n",
       "2018-11-30 04:50:00         7.77              Clear"
      ]
     },
     "execution_count": 40,
     "metadata": {},
     "output_type": "execute_result"
    }
   ],
   "source": [
    "df.info()\n",
    "df.head(10)"
   ]
  },
  {
   "cell_type": "markdown",
   "metadata": {},
   "source": [
    "### Statistics"
   ]
  },
  {
   "cell_type": "code",
   "execution_count": 41,
   "metadata": {},
   "outputs": [
    {
     "data": {
      "text/html": [
       "<div>\n",
       "<style scoped>\n",
       "    .dataframe tbody tr th:only-of-type {\n",
       "        vertical-align: middle;\n",
       "    }\n",
       "\n",
       "    .dataframe tbody tr th {\n",
       "        vertical-align: top;\n",
       "    }\n",
       "\n",
       "    .dataframe thead th {\n",
       "        text-align: right;\n",
       "    }\n",
       "</style>\n",
       "<table border=\"1\" class=\"dataframe\">\n",
       "  <thead>\n",
       "    <tr style=\"text-align: right;\">\n",
       "      <th></th>\n",
       "      <th>Temperature</th>\n",
       "    </tr>\n",
       "  </thead>\n",
       "  <tbody>\n",
       "    <tr>\n",
       "      <th>count</th>\n",
       "      <td>154.000000</td>\n",
       "    </tr>\n",
       "    <tr>\n",
       "      <th>mean</th>\n",
       "      <td>10.552857</td>\n",
       "    </tr>\n",
       "    <tr>\n",
       "      <th>std</th>\n",
       "      <td>2.533021</td>\n",
       "    </tr>\n",
       "    <tr>\n",
       "      <th>min</th>\n",
       "      <td>5.880000</td>\n",
       "    </tr>\n",
       "    <tr>\n",
       "      <th>25%</th>\n",
       "      <td>8.112500</td>\n",
       "    </tr>\n",
       "    <tr>\n",
       "      <th>50%</th>\n",
       "      <td>11.190000</td>\n",
       "    </tr>\n",
       "    <tr>\n",
       "      <th>75%</th>\n",
       "      <td>13.000000</td>\n",
       "    </tr>\n",
       "    <tr>\n",
       "      <th>max</th>\n",
       "      <td>14.090000</td>\n",
       "    </tr>\n",
       "  </tbody>\n",
       "</table>\n",
       "</div>"
      ],
      "text/plain": [
       "       Temperature\n",
       "count   154.000000\n",
       "mean     10.552857\n",
       "std       2.533021\n",
       "min       5.880000\n",
       "25%       8.112500\n",
       "50%      11.190000\n",
       "75%      13.000000\n",
       "max      14.090000"
      ]
     },
     "execution_count": 41,
     "metadata": {},
     "output_type": "execute_result"
    }
   ],
   "source": [
    "df.describe()"
   ]
  },
  {
   "cell_type": "markdown",
   "metadata": {},
   "source": [
    "### Plotting"
   ]
  },
  {
   "cell_type": "code",
   "execution_count": 47,
   "metadata": {},
   "outputs": [
    {
     "name": "stdout",
     "output_type": "stream",
     "text": [
      "Plotting the dataframe...\n",
      "Time taken to plot the Dataframe:  0.06521797180175781  seconds\n"
     ]
    },
    {
     "data": {
      "image/png": "[encoded data removed]",
      "text/plain": [
       "<Figure size 1080x720 with 2 Axes>"
      ]
     },
     "metadata": {
      "needs_background": "light"
     },
     "output_type": "display_data"
    }
   ],
   "source": [
    "print(\"Plotting the dataframe...\")\n",
    "tic = time.time()\n",
    "\n",
    "N_PLOTS = 2\n",
    "RESAMPLE_FREQ = '60S'\n",
    "\n",
    "fig, ax = plt.subplots(nrows=N_PLOTS, figsize=(15,10))\n",
    "\n",
    "# Mean subplot\n",
    "mean = pd.Series(df['Temperature'])\n",
    "ax[0].plot(mean)\n",
    "#ax[0].set_title('Temperature Mean')\n",
    "ax[0].set_xlabel('Datetime')\n",
    "ax[0].set_ylabel('Temperature (°C)')\n",
    "\n",
    "# Std. deviation subplot\n",
    "stddev = pd.Series(df['Weather Classifier'])\n",
    "ax[1].plot(stddev)\n",
    "#ax[1].set_title('Standard Deviation')\n",
    "ax[1].set_xlabel('Datetime')\n",
    "ax[1].set_ylabel('Classifier')\n",
    "\n",
    "toc = time.time()\n",
    "print(\"Time taken to plot the Dataframe: \", (toc - tic), \" seconds\")"
   ]
  },
  {
   "cell_type": "code",
   "execution_count": null,
   "metadata": {},
   "outputs": [],
   "source": []
  }
 ],
 "metadata": {
  "kernelspec": {
   "display_name": "Python 3",
   "language": "python",
   "name": "python3"
  },
  "language_info": {
   "codemirror_mode": {
    "name": "ipython",
    "version": 3
   },
   "file_extension": ".py",
   "mimetype": "text/x-python",
   "name": "python",
   "nbconvert_exporter": "python",
   "pygments_lexer": "ipython3",
   "version": "3.7.0"
  }
 },
 "nbformat": 4,
 "nbformat_minor": 2
}
